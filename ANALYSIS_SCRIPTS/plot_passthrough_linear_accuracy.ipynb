{
 "cells": [
  {
   "cell_type": "code",
   "execution_count": null,
   "metadata": {},
   "outputs": [],
   "source": [
    "import shared_data as sd\n",
    "from glob import glob\n",
    "import utility_functions as uf\n",
    "import matplotlib.pyplot as plt\n",
    "import numpy as np\n",
    "\n",
    "# RESULTS = glob(f\"{sd.BASE_DIR}/RESULTS_2024-6-12*\")[0]\n",
    "RESULTS = sd.RESULTS\n",
    "x = sd.R[1:]\n",
    "\n",
    "# for i in range(sd.N_SEGMENTS):\n",
    "#     accuracy_mean_list = []\n",
    "#     accuracy_sem_list = []\n",
    "#     for j, _ in enumerate(x):\n",
    "#         result_path = glob(f\"{RESULTS}/*layer{j+1}_e{i+1}*validation*\")[0]\n",
    "#         accuracy_mean, accuracy_sem = uf.get_accuracy_mean_and_sem(result_path)\n",
    "#         accuracy_mean_list.append(accuracy_mean)\n",
    "#         # accuracy_sem_list.append(accuracy_sem)\n",
    "#         accuracy_sem_list.append(accuracy_sem * np.sqrt(sd.N_CROSS_VALIDATION_COMBINATIONS))\n",
    "\n",
    "accuracy_mean_list = []\n",
    "accuracy_sem_list = []\n",
    "for j, _ in enumerate(x):\n",
    "    result_path = glob(f\"{RESULTS}/*layer{j+1}*validation*\")[0]\n",
    "    accuracy_mean, accuracy_sem = uf.get_accuracy_mean_and_sem(result_path)\n",
    "    accuracy_mean_list.append(accuracy_mean)\n",
    "    accuracy_sem_list.append(accuracy_sem)\n",
    "    # accuracy_sem_list.append(accuracy_sem * np.sqrt(sd.N_CROSS_VALIDATION_COMBINATIONS))\n",
    "    \n",
    "    # plt.figure(figsize=(12, 6))\n",
    "    # plt.plot([x[0]-5, x[-1]+5], [0.5, 0.5], color=\"red\", linestyle=\"--\")\n",
    "    # plt.errorbar(x, accuracy_mean_list, yerr=accuracy_sem_list, capsize=3, marker=\"o\", label=f\"e{i+1}\")\n",
    "    # plt.ylim((0, 1))\n",
    "    # plt.xlim((x[0]-1, x[-1]+1))\n",
    "    # plt.ylabel(\"Cross-validation accuracy\")\n",
    "    # plt.xlabel(\"Outer radius of shell ($\\AA$)\")\n",
    "    # plt.grid()\n",
    "    # plt.legend()\n",
    "plt.figure(figsize=(12, 6))\n",
    "plt.plot([x[0]-5, x[-1]+5], [0.5, 0.5], color=\"red\", linestyle=\"--\")\n",
    "plt.errorbar(x, accuracy_mean_list, yerr=accuracy_sem_list, capsize=3, marker=\"o\")\n",
    "plt.ylim((0, 1))\n",
    "plt.xlim((x[0]-1, x[-1]+1))\n",
    "plt.ylabel(\"Cross-validation accuracy\")\n",
    "plt.xlabel(\"Outer radius of shell ($\\AA$)\")\n",
    "plt.grid()\n",
    "plt.legend()"
   ]
  }
 ],
 "metadata": {
  "kernelspec": {
   "display_name": "ERMDL_ENV",
   "language": "python",
   "name": "python3"
  },
  "language_info": {
   "codemirror_mode": {
    "name": "ipython",
    "version": 3
   },
   "file_extension": ".py",
   "mimetype": "text/x-python",
   "name": "python",
   "nbconvert_exporter": "python",
   "pygments_lexer": "ipython3",
   "version": "3.9.19"
  },
  "orig_nbformat": 4
 },
 "nbformat": 4,
 "nbformat_minor": 2
}
