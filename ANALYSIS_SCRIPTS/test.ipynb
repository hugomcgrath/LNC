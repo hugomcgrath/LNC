{
 "cells": [
  {
   "cell_type": "code",
   "execution_count": 3,
   "metadata": {},
   "outputs": [],
   "source": [
    "import MDAnalysis as mda"
   ]
  },
  {
   "cell_type": "code",
   "execution_count": 5,
   "metadata": {},
   "outputs": [
    {
     "name": "stdout",
     "output_type": "stream",
     "text": [
      "61\n",
      "61\n"
     ]
    }
   ],
   "source": [
    "lnc_u = mda.Universe(\"/home/hmcgrat/LNC/LNC/system.pdb\")\n",
    "none_u = mda.Universe(\"/home/hmcgrat/LNC/NONE/system.pdb\")\n",
    "\n",
    "lnc_s = lnc_u.select_atoms(\"all\")\n",
    "antibiotic_s = lnc_u.select_atoms(\"segid 9\")\n",
    "none_s = none_u.select_atoms(\"all\")\n",
    "\n",
    "print(lnc_s.n_atoms - none_s.n_atoms)\n",
    "print(antibiotic_s.n_atoms)"
   ]
  }
 ],
 "metadata": {
  "kernelspec": {
   "display_name": "ERMDL_VENV",
   "language": "python",
   "name": "python3"
  },
  "language_info": {
   "codemirror_mode": {
    "name": "ipython",
    "version": 3
   },
   "file_extension": ".py",
   "mimetype": "text/x-python",
   "name": "python",
   "nbconvert_exporter": "python",
   "pygments_lexer": "ipython3",
   "version": "3.9.19"
  },
  "orig_nbformat": 4
 },
 "nbformat": 4,
 "nbformat_minor": 2
}
