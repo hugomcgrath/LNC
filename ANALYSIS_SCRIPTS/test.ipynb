{
 "cells": [
  {
   "cell_type": "code",
   "execution_count": null,
   "metadata": {},
   "outputs": [],
   "source": [
    "import MDAnalysis as mda\n",
    "import numpy as np\n",
    "import shared_data as sd\n",
    "import subprocess\n",
    "\n",
    "\n",
    "for system_name, system_path in sd.SYSTEMS.items():\n",
    "    for i in range(1, sd.N_TRJ+1):\n",
    "        for selection_name in sd.SELECTION_DICT:\n",
    "            xtc_path = f\"{system_path}/T{i}/{selection_name}.xtc\"\n",
    "            subprocess.run(f\"du -h {xtc_path}\", shell=True)"
   ]
  }
 ],
 "metadata": {
  "kernelspec": {
   "display_name": "LNC_ENV",
   "language": "python",
   "name": "python3"
  },
  "language_info": {
   "codemirror_mode": {
    "name": "ipython",
    "version": 3
   },
   "file_extension": ".py",
   "mimetype": "text/x-python",
   "name": "python",
   "nbconvert_exporter": "python",
   "pygments_lexer": "ipython3",
   "version": "3.9.19"
  },
  "orig_nbformat": 4
 },
 "nbformat": 4,
 "nbformat_minor": 2
}
