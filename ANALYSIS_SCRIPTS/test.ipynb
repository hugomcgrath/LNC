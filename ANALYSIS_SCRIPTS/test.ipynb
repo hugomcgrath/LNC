{
 "cells": [
  {
   "cell_type": "code",
   "execution_count": null,
   "metadata": {},
   "outputs": [],
   "source": [
    "import MDAnalysis as mda\n",
    "import shared_data as sd\n",
    "import numpy as np\n",
    "import matplotlib.pyplot as plt"
   ]
  },
  {
   "cell_type": "code",
   "execution_count": null,
   "metadata": {},
   "outputs": [],
   "source": [
    "r_prev = 0\n",
    "r_now = 25\n",
    "r_max = 50\n",
    "i = 0\n",
    "r = [r_now]\n",
    "while r_now <= r_max:\n",
    "    r_next = (2 * r_now ** 3 - r_prev ** 3) ** (1 / 3)\n",
    "    r_prev, r_now = r_now, r_next\n",
    "    print(f\"{i}: r_now = {r_now}\")\n",
    "    r.append(r_now)\n",
    "    i += 1\n",
    "plt.scatter([j for j in range(i+1)], r)\n",
    "plt.grid()\n",
    "plt.ylim((0, r_max+5))"
   ]
  }
 ],
 "metadata": {
  "kernelspec": {
   "display_name": "ERMDL_VENV",
   "language": "python",
   "name": "python3"
  },
  "language_info": {
   "codemirror_mode": {
    "name": "ipython",
    "version": 3
   },
   "file_extension": ".py",
   "mimetype": "text/x-python",
   "name": "python",
   "nbconvert_exporter": "python",
   "pygments_lexer": "ipython3",
   "version": "3.9.19"
  },
  "orig_nbformat": 4
 },
 "nbformat": 4,
 "nbformat_minor": 2
}
